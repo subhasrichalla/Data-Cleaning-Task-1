{
 "cells": [
  {
   "cell_type": "code",
   "execution_count": 1,
   "id": "5b9a68fc",
   "metadata": {},
   "outputs": [],
   "source": [
    "import numpy as np\n",
    "import pandas as pd"
   ]
  },
  {
   "cell_type": "markdown",
   "id": "d07fa1aa",
   "metadata": {},
   "source": [
    "### a. Kindly fill the missing values with value\n",
    "### Statistical value\n",
    "### Filling  method\n",
    "\n",
    "### B) Create pivot table for  position and average salary.\n",
    "### C) Group the data using group by as per gender  and average age."
   ]
  },
  {
   "cell_type": "code",
   "execution_count": 2,
   "id": "02dd6ab8",
   "metadata": {},
   "outputs": [],
   "source": [
    "df= pd.read_excel(r\"C:\\Users\\subha\\Downloads\\ethnic_diversity.xlsx\")"
   ]
  },
  {
   "cell_type": "code",
   "execution_count": 3,
   "id": "c5372c99",
   "metadata": {},
   "outputs": [
    {
     "data": {
      "text/html": [
       "<div>\n",
       "<style scoped>\n",
       "    .dataframe tbody tr th:only-of-type {\n",
       "        vertical-align: middle;\n",
       "    }\n",
       "\n",
       "    .dataframe tbody tr th {\n",
       "        vertical-align: top;\n",
       "    }\n",
       "\n",
       "    .dataframe thead th {\n",
       "        text-align: right;\n",
       "    }\n",
       "</style>\n",
       "<table border=\"1\" class=\"dataframe\">\n",
       "  <thead>\n",
       "    <tr style=\"text-align: right;\">\n",
       "      <th></th>\n",
       "      <th>Employee_Name</th>\n",
       "      <th>EmpID</th>\n",
       "      <th>Position</th>\n",
       "      <th>State</th>\n",
       "      <th>Zip</th>\n",
       "      <th>Gender</th>\n",
       "      <th>MaritalDesc</th>\n",
       "      <th>CitizenDesc</th>\n",
       "      <th>EmploymentStatus</th>\n",
       "      <th>Department</th>\n",
       "      <th>Salaries</th>\n",
       "      <th>age</th>\n",
       "      <th>Race</th>\n",
       "    </tr>\n",
       "  </thead>\n",
       "  <tbody>\n",
       "    <tr>\n",
       "      <th>0</th>\n",
       "      <td>Brown, Mia</td>\n",
       "      <td>1103024456</td>\n",
       "      <td>Accountant I</td>\n",
       "      <td>MA</td>\n",
       "      <td>1450.0</td>\n",
       "      <td>F</td>\n",
       "      <td>Married</td>\n",
       "      <td>US Citizen</td>\n",
       "      <td>Active</td>\n",
       "      <td>Admin Offices</td>\n",
       "      <td>674.28</td>\n",
       "      <td>28</td>\n",
       "      <td>Black or African American</td>\n",
       "    </tr>\n",
       "    <tr>\n",
       "      <th>1</th>\n",
       "      <td>LaRotonda, William</td>\n",
       "      <td>1106026572</td>\n",
       "      <td>Accountant I</td>\n",
       "      <td>MA</td>\n",
       "      <td>1460.0</td>\n",
       "      <td>M</td>\n",
       "      <td>Divorced</td>\n",
       "      <td>US Citizen</td>\n",
       "      <td>Active</td>\n",
       "      <td>Admin Offices</td>\n",
       "      <td>674.28</td>\n",
       "      <td>50</td>\n",
       "      <td>NaN</td>\n",
       "    </tr>\n",
       "    <tr>\n",
       "      <th>2</th>\n",
       "      <td>Steans, Tyrone</td>\n",
       "      <td>1302053333</td>\n",
       "      <td>Accountant I</td>\n",
       "      <td>MA</td>\n",
       "      <td>2703.0</td>\n",
       "      <td>M</td>\n",
       "      <td>Single</td>\n",
       "      <td>US Citizen</td>\n",
       "      <td>Active</td>\n",
       "      <td>Admin Offices</td>\n",
       "      <td>674.28</td>\n",
       "      <td>43</td>\n",
       "      <td>White</td>\n",
       "    </tr>\n",
       "    <tr>\n",
       "      <th>3</th>\n",
       "      <td>Howard, Estelle</td>\n",
       "      <td>1211050782</td>\n",
       "      <td>Administrative Assistant</td>\n",
       "      <td>MA</td>\n",
       "      <td>2170.0</td>\n",
       "      <td>F</td>\n",
       "      <td>Married</td>\n",
       "      <td>US Citizen</td>\n",
       "      <td>Terminated for Cause</td>\n",
       "      <td>Admin Offices</td>\n",
       "      <td>NaN</td>\n",
       "      <td>44</td>\n",
       "      <td>White</td>\n",
       "    </tr>\n",
       "    <tr>\n",
       "      <th>4</th>\n",
       "      <td>Singh, Nan</td>\n",
       "      <td>1307059817</td>\n",
       "      <td>Administrative Assistant</td>\n",
       "      <td>MA</td>\n",
       "      <td>2330.0</td>\n",
       "      <td>F</td>\n",
       "      <td>Single</td>\n",
       "      <td>US Citizen</td>\n",
       "      <td>Active</td>\n",
       "      <td>Admin Offices</td>\n",
       "      <td>61089.35</td>\n",
       "      <td>33</td>\n",
       "      <td>White</td>\n",
       "    </tr>\n",
       "    <tr>\n",
       "      <th>...</th>\n",
       "      <td>...</td>\n",
       "      <td>...</td>\n",
       "      <td>...</td>\n",
       "      <td>...</td>\n",
       "      <td>...</td>\n",
       "      <td>...</td>\n",
       "      <td>...</td>\n",
       "      <td>...</td>\n",
       "      <td>...</td>\n",
       "      <td>...</td>\n",
       "      <td>...</td>\n",
       "      <td>...</td>\n",
       "      <td>...</td>\n",
       "    </tr>\n",
       "    <tr>\n",
       "      <th>305</th>\n",
       "      <td>Daniele, Ann</td>\n",
       "      <td>1411071312</td>\n",
       "      <td>Sr. Network Engineer</td>\n",
       "      <td>CT</td>\n",
       "      <td>6033.0</td>\n",
       "      <td>F</td>\n",
       "      <td>Married</td>\n",
       "      <td>US Citizen</td>\n",
       "      <td>Leave of Absence</td>\n",
       "      <td>IT/IS</td>\n",
       "      <td>37619.01</td>\n",
       "      <td>38</td>\n",
       "      <td>White</td>\n",
       "    </tr>\n",
       "    <tr>\n",
       "      <th>306</th>\n",
       "      <td>Lajiri,  Jyoti</td>\n",
       "      <td>1108028108</td>\n",
       "      <td>Sr. Network Engineer</td>\n",
       "      <td>MA</td>\n",
       "      <td>2169.0</td>\n",
       "      <td>M</td>\n",
       "      <td>Married</td>\n",
       "      <td>US Citizen</td>\n",
       "      <td>Leave of Absence</td>\n",
       "      <td>IT/IS</td>\n",
       "      <td>27603.00</td>\n",
       "      <td>34</td>\n",
       "      <td>White</td>\n",
       "    </tr>\n",
       "    <tr>\n",
       "      <th>307</th>\n",
       "      <td>Semizoglou, Jeremiah</td>\n",
       "      <td>904013591</td>\n",
       "      <td>Sr. Network Engineer</td>\n",
       "      <td>MA</td>\n",
       "      <td>1545.0</td>\n",
       "      <td>M</td>\n",
       "      <td>Married</td>\n",
       "      <td>US Citizen</td>\n",
       "      <td>Future Start</td>\n",
       "      <td>IT/IS</td>\n",
       "      <td>27587.46</td>\n",
       "      <td>24</td>\n",
       "      <td>Asian</td>\n",
       "    </tr>\n",
       "    <tr>\n",
       "      <th>308</th>\n",
       "      <td>South, Joe</td>\n",
       "      <td>1308060959</td>\n",
       "      <td>Sr. Network Engineer</td>\n",
       "      <td>CT</td>\n",
       "      <td>6278.0</td>\n",
       "      <td>M</td>\n",
       "      <td>Single</td>\n",
       "      <td>US Citizen</td>\n",
       "      <td>Active</td>\n",
       "      <td>IT/IS</td>\n",
       "      <td>12126.53</td>\n",
       "      <td>31</td>\n",
       "      <td>White</td>\n",
       "    </tr>\n",
       "    <tr>\n",
       "      <th>309</th>\n",
       "      <td>Warfield, Sarah</td>\n",
       "      <td>1301052347</td>\n",
       "      <td>Sr. Network Engineer</td>\n",
       "      <td>MA</td>\n",
       "      <td>2453.0</td>\n",
       "      <td>F</td>\n",
       "      <td>Widowed</td>\n",
       "      <td>US Citizen</td>\n",
       "      <td>Active</td>\n",
       "      <td>IT/IS</td>\n",
       "      <td>37257.00</td>\n",
       "      <td>46</td>\n",
       "      <td>Asian</td>\n",
       "    </tr>\n",
       "  </tbody>\n",
       "</table>\n",
       "<p>310 rows × 13 columns</p>\n",
       "</div>"
      ],
      "text/plain": [
       "              Employee_Name       EmpID                  Position State  \\\n",
       "0                Brown, Mia  1103024456              Accountant I    MA   \n",
       "1      LaRotonda, William    1106026572              Accountant I    MA   \n",
       "2          Steans, Tyrone    1302053333              Accountant I    MA   \n",
       "3           Howard, Estelle  1211050782  Administrative Assistant    MA   \n",
       "4               Singh, Nan   1307059817  Administrative Assistant    MA   \n",
       "..                      ...         ...                       ...   ...   \n",
       "305          Daniele, Ann    1411071312      Sr. Network Engineer    CT   \n",
       "306          Lajiri,  Jyoti  1108028108      Sr. Network Engineer    MA   \n",
       "307  Semizoglou, Jeremiah     904013591      Sr. Network Engineer    MA   \n",
       "308              South, Joe  1308060959      Sr. Network Engineer    CT   \n",
       "309         Warfield, Sarah  1301052347      Sr. Network Engineer    MA   \n",
       "\n",
       "        Zip Gender MaritalDesc CitizenDesc      EmploymentStatus  \\\n",
       "0    1450.0      F     Married  US Citizen                Active   \n",
       "1    1460.0     M     Divorced  US Citizen                Active   \n",
       "2    2703.0     M       Single  US Citizen                Active   \n",
       "3    2170.0      F     Married  US Citizen  Terminated for Cause   \n",
       "4    2330.0      F      Single  US Citizen                Active   \n",
       "..      ...    ...         ...         ...                   ...   \n",
       "305  6033.0      F     Married  US Citizen      Leave of Absence   \n",
       "306  2169.0     M      Married  US Citizen      Leave of Absence   \n",
       "307  1545.0     M      Married  US Citizen          Future Start   \n",
       "308  6278.0     M       Single  US Citizen                Active   \n",
       "309  2453.0      F     Widowed  US Citizen                Active   \n",
       "\n",
       "        Department  Salaries  age                       Race  \n",
       "0    Admin Offices    674.28   28  Black or African American  \n",
       "1    Admin Offices    674.28   50                        NaN  \n",
       "2    Admin Offices    674.28   43                      White  \n",
       "3    Admin Offices       NaN   44                      White  \n",
       "4    Admin Offices  61089.35   33                      White  \n",
       "..             ...       ...  ...                        ...  \n",
       "305          IT/IS  37619.01   38                      White  \n",
       "306          IT/IS  27603.00   34                      White  \n",
       "307          IT/IS  27587.46   24                      Asian  \n",
       "308          IT/IS  12126.53   31                      White  \n",
       "309          IT/IS  37257.00   46                      Asian  \n",
       "\n",
       "[310 rows x 13 columns]"
      ]
     },
     "execution_count": 3,
     "metadata": {},
     "output_type": "execute_result"
    }
   ],
   "source": [
    "df"
   ]
  },
  {
   "cell_type": "code",
   "execution_count": 4,
   "id": "7155c9dd",
   "metadata": {},
   "outputs": [
    {
     "data": {
      "text/plain": [
       "Employee_Name        0\n",
       "EmpID                0\n",
       "Position             3\n",
       "State                2\n",
       "Zip                  2\n",
       "Gender               7\n",
       "MaritalDesc          9\n",
       "CitizenDesc          3\n",
       "EmploymentStatus     0\n",
       "Department           5\n",
       "Salaries            12\n",
       "age                  0\n",
       "Race                 9\n",
       "dtype: int64"
      ]
     },
     "execution_count": 4,
     "metadata": {},
     "output_type": "execute_result"
    }
   ],
   "source": [
    "df.isna().sum()"
   ]
  },
  {
   "cell_type": "markdown",
   "id": "5d08af4d",
   "metadata": {},
   "source": [
    "## Position"
   ]
  },
  {
   "cell_type": "code",
   "execution_count": 5,
   "id": "148bd726",
   "metadata": {},
   "outputs": [
    {
     "data": {
      "text/html": [
       "<div>\n",
       "<style scoped>\n",
       "    .dataframe tbody tr th:only-of-type {\n",
       "        vertical-align: middle;\n",
       "    }\n",
       "\n",
       "    .dataframe tbody tr th {\n",
       "        vertical-align: top;\n",
       "    }\n",
       "\n",
       "    .dataframe thead th {\n",
       "        text-align: right;\n",
       "    }\n",
       "</style>\n",
       "<table border=\"1\" class=\"dataframe\">\n",
       "  <thead>\n",
       "    <tr style=\"text-align: right;\">\n",
       "      <th></th>\n",
       "      <th>Employee_Name</th>\n",
       "      <th>EmpID</th>\n",
       "      <th>Position</th>\n",
       "      <th>State</th>\n",
       "      <th>Zip</th>\n",
       "      <th>Gender</th>\n",
       "      <th>MaritalDesc</th>\n",
       "      <th>CitizenDesc</th>\n",
       "      <th>EmploymentStatus</th>\n",
       "      <th>Department</th>\n",
       "      <th>Salaries</th>\n",
       "      <th>age</th>\n",
       "      <th>Race</th>\n",
       "    </tr>\n",
       "  </thead>\n",
       "  <tbody>\n",
       "    <tr>\n",
       "      <th>91</th>\n",
       "      <td>Desimone, Carl</td>\n",
       "      <td>1501072124</td>\n",
       "      <td>NaN</td>\n",
       "      <td>MA</td>\n",
       "      <td>2061.0</td>\n",
       "      <td>M</td>\n",
       "      <td>NaN</td>\n",
       "      <td>US Citizen</td>\n",
       "      <td>Active</td>\n",
       "      <td>NaN</td>\n",
       "      <td>15736.71</td>\n",
       "      <td>26</td>\n",
       "      <td>White</td>\n",
       "    </tr>\n",
       "    <tr>\n",
       "      <th>95</th>\n",
       "      <td>Kirill, Alexandra</td>\n",
       "      <td>903013071</td>\n",
       "      <td>NaN</td>\n",
       "      <td>MA</td>\n",
       "      <td>2127.0</td>\n",
       "      <td>F</td>\n",
       "      <td>Married</td>\n",
       "      <td>US Citizen</td>\n",
       "      <td>Voluntarily Terminated</td>\n",
       "      <td>Production</td>\n",
       "      <td>37619.00</td>\n",
       "      <td>44</td>\n",
       "      <td>White</td>\n",
       "    </tr>\n",
       "    <tr>\n",
       "      <th>151</th>\n",
       "      <td>Engdahl, Jean</td>\n",
       "      <td>1007020403</td>\n",
       "      <td>NaN</td>\n",
       "      <td>NaN</td>\n",
       "      <td>2026.0</td>\n",
       "      <td>M</td>\n",
       "      <td>Single</td>\n",
       "      <td>US Citizen</td>\n",
       "      <td>Active</td>\n",
       "      <td>Production</td>\n",
       "      <td>49808.01</td>\n",
       "      <td>54</td>\n",
       "      <td>White</td>\n",
       "    </tr>\n",
       "  </tbody>\n",
       "</table>\n",
       "</div>"
      ],
      "text/plain": [
       "           Employee_Name       EmpID Position State     Zip Gender  \\\n",
       "91       Desimone, Carl   1501072124      NaN    MA  2061.0     M    \n",
       "95   Kirill, Alexandra     903013071      NaN    MA  2127.0      F   \n",
       "151        Engdahl, Jean  1007020403      NaN   NaN  2026.0     M    \n",
       "\n",
       "    MaritalDesc CitizenDesc        EmploymentStatus         Department  \\\n",
       "91          NaN  US Citizen                  Active                NaN   \n",
       "95      Married  US Citizen  Voluntarily Terminated  Production          \n",
       "151      Single  US Citizen                  Active  Production          \n",
       "\n",
       "     Salaries  age   Race  \n",
       "91   15736.71   26  White  \n",
       "95   37619.00   44  White  \n",
       "151  49808.01   54  White  "
      ]
     },
     "execution_count": 5,
     "metadata": {},
     "output_type": "execute_result"
    }
   ],
   "source": [
    "df[df['Position'].isnull()]"
   ]
  },
  {
   "cell_type": "code",
   "execution_count": 7,
   "id": "2b56a721",
   "metadata": {},
   "outputs": [],
   "source": [
    "df['Position'].fillna('Data Scientist',inplace = True)  ## value"
   ]
  },
  {
   "cell_type": "code",
   "execution_count": 8,
   "id": "a9d1abc1",
   "metadata": {},
   "outputs": [
    {
     "data": {
      "text/plain": [
       "'Data Scientist'"
      ]
     },
     "execution_count": 8,
     "metadata": {},
     "output_type": "execute_result"
    }
   ],
   "source": [
    "df['Position'][91]"
   ]
  },
  {
   "cell_type": "code",
   "execution_count": 9,
   "id": "368e39de",
   "metadata": {},
   "outputs": [
    {
     "data": {
      "text/plain": [
       "Employee_Name        0\n",
       "EmpID                0\n",
       "Position             0\n",
       "State                2\n",
       "Zip                  2\n",
       "Gender               7\n",
       "MaritalDesc          9\n",
       "CitizenDesc          3\n",
       "EmploymentStatus     0\n",
       "Department           5\n",
       "Salaries            12\n",
       "age                  0\n",
       "Race                 9\n",
       "dtype: int64"
      ]
     },
     "execution_count": 9,
     "metadata": {},
     "output_type": "execute_result"
    }
   ],
   "source": [
    "df.isna().sum()"
   ]
  },
  {
   "cell_type": "code",
   "execution_count": 10,
   "id": "7b32c466",
   "metadata": {},
   "outputs": [
    {
     "data": {
      "text/html": [
       "<div>\n",
       "<style scoped>\n",
       "    .dataframe tbody tr th:only-of-type {\n",
       "        vertical-align: middle;\n",
       "    }\n",
       "\n",
       "    .dataframe tbody tr th {\n",
       "        vertical-align: top;\n",
       "    }\n",
       "\n",
       "    .dataframe thead th {\n",
       "        text-align: right;\n",
       "    }\n",
       "</style>\n",
       "<table border=\"1\" class=\"dataframe\">\n",
       "  <thead>\n",
       "    <tr style=\"text-align: right;\">\n",
       "      <th></th>\n",
       "      <th>Employee_Name</th>\n",
       "      <th>EmpID</th>\n",
       "      <th>Position</th>\n",
       "      <th>State</th>\n",
       "      <th>Zip</th>\n",
       "      <th>Gender</th>\n",
       "      <th>MaritalDesc</th>\n",
       "      <th>CitizenDesc</th>\n",
       "      <th>EmploymentStatus</th>\n",
       "      <th>Department</th>\n",
       "      <th>Salaries</th>\n",
       "      <th>age</th>\n",
       "      <th>Race</th>\n",
       "    </tr>\n",
       "  </thead>\n",
       "  <tbody>\n",
       "    <tr>\n",
       "      <th>81</th>\n",
       "      <td>Liebig, Ketsia</td>\n",
       "      <td>1103024679</td>\n",
       "      <td>Production Manager</td>\n",
       "      <td>NaN</td>\n",
       "      <td>2110.0</td>\n",
       "      <td>F</td>\n",
       "      <td>Married</td>\n",
       "      <td>US Citizen</td>\n",
       "      <td>Active</td>\n",
       "      <td>Production</td>\n",
       "      <td>28520.00</td>\n",
       "      <td>35</td>\n",
       "      <td>White</td>\n",
       "    </tr>\n",
       "    <tr>\n",
       "      <th>151</th>\n",
       "      <td>Engdahl, Jean</td>\n",
       "      <td>1007020403</td>\n",
       "      <td>Data Scientist</td>\n",
       "      <td>NaN</td>\n",
       "      <td>2026.0</td>\n",
       "      <td>M</td>\n",
       "      <td>Single</td>\n",
       "      <td>US Citizen</td>\n",
       "      <td>Active</td>\n",
       "      <td>Production</td>\n",
       "      <td>49808.01</td>\n",
       "      <td>54</td>\n",
       "      <td>White</td>\n",
       "    </tr>\n",
       "  </tbody>\n",
       "</table>\n",
       "</div>"
      ],
      "text/plain": [
       "      Employee_Name       EmpID            Position State     Zip Gender  \\\n",
       "81   Liebig, Ketsia  1103024679  Production Manager   NaN  2110.0      F   \n",
       "151   Engdahl, Jean  1007020403      Data Scientist   NaN  2026.0     M    \n",
       "\n",
       "    MaritalDesc CitizenDesc EmploymentStatus         Department  Salaries  \\\n",
       "81      Married  US Citizen           Active  Production         28520.00   \n",
       "151      Single  US Citizen           Active  Production         49808.01   \n",
       "\n",
       "     age   Race  \n",
       "81    35  White  \n",
       "151   54  White  "
      ]
     },
     "execution_count": 10,
     "metadata": {},
     "output_type": "execute_result"
    }
   ],
   "source": [
    "df[df['State'].isnull()]"
   ]
  },
  {
   "cell_type": "code",
   "execution_count": 12,
   "id": "437450d4",
   "metadata": {},
   "outputs": [
    {
     "data": {
      "text/plain": [
       "0    MA\n",
       "Name: State, dtype: object"
      ]
     },
     "execution_count": 12,
     "metadata": {},
     "output_type": "execute_result"
    }
   ],
   "source": [
    "df['State'].mode()  ## statistical method"
   ]
  },
  {
   "cell_type": "code",
   "execution_count": 14,
   "id": "02cdf620",
   "metadata": {},
   "outputs": [],
   "source": [
    "df['State'].fillna(df['State'].mode()[0],inplace = True)"
   ]
  },
  {
   "cell_type": "code",
   "execution_count": 15,
   "id": "0ad12d1a",
   "metadata": {},
   "outputs": [
    {
     "data": {
      "text/plain": [
       "'MA'"
      ]
     },
     "execution_count": 15,
     "metadata": {},
     "output_type": "execute_result"
    }
   ],
   "source": [
    "df['State'][81]"
   ]
  },
  {
   "cell_type": "code",
   "execution_count": 16,
   "id": "d94bdba9",
   "metadata": {},
   "outputs": [
    {
     "data": {
      "text/plain": [
       "'MA'"
      ]
     },
     "execution_count": 16,
     "metadata": {},
     "output_type": "execute_result"
    }
   ],
   "source": [
    "df['State'][151]"
   ]
  },
  {
   "cell_type": "code",
   "execution_count": 17,
   "id": "35c7cea1",
   "metadata": {},
   "outputs": [
    {
     "data": {
      "text/plain": [
       "Employee_Name        0\n",
       "EmpID                0\n",
       "Position             0\n",
       "State                0\n",
       "Zip                  2\n",
       "Gender               7\n",
       "MaritalDesc          9\n",
       "CitizenDesc          3\n",
       "EmploymentStatus     0\n",
       "Department           5\n",
       "Salaries            12\n",
       "age                  0\n",
       "Race                 9\n",
       "dtype: int64"
      ]
     },
     "execution_count": 17,
     "metadata": {},
     "output_type": "execute_result"
    }
   ],
   "source": [
    "df.isna().sum()"
   ]
  },
  {
   "cell_type": "markdown",
   "id": "2bf239ce",
   "metadata": {},
   "source": [
    "### Zip"
   ]
  },
  {
   "cell_type": "code",
   "execution_count": 18,
   "id": "3d5aba42",
   "metadata": {},
   "outputs": [
    {
     "data": {
      "text/html": [
       "<div>\n",
       "<style scoped>\n",
       "    .dataframe tbody tr th:only-of-type {\n",
       "        vertical-align: middle;\n",
       "    }\n",
       "\n",
       "    .dataframe tbody tr th {\n",
       "        vertical-align: top;\n",
       "    }\n",
       "\n",
       "    .dataframe thead th {\n",
       "        text-align: right;\n",
       "    }\n",
       "</style>\n",
       "<table border=\"1\" class=\"dataframe\">\n",
       "  <thead>\n",
       "    <tr style=\"text-align: right;\">\n",
       "      <th></th>\n",
       "      <th>Employee_Name</th>\n",
       "      <th>EmpID</th>\n",
       "      <th>Position</th>\n",
       "      <th>State</th>\n",
       "      <th>Zip</th>\n",
       "      <th>Gender</th>\n",
       "      <th>MaritalDesc</th>\n",
       "      <th>CitizenDesc</th>\n",
       "      <th>EmploymentStatus</th>\n",
       "      <th>Department</th>\n",
       "      <th>Salaries</th>\n",
       "      <th>age</th>\n",
       "      <th>Race</th>\n",
       "    </tr>\n",
       "  </thead>\n",
       "  <tbody>\n",
       "    <tr>\n",
       "      <th>83</th>\n",
       "      <td>Peterson, Ebonee</td>\n",
       "      <td>1402065355</td>\n",
       "      <td>Production Manager</td>\n",
       "      <td>MA</td>\n",
       "      <td>NaN</td>\n",
       "      <td>F</td>\n",
       "      <td>Married</td>\n",
       "      <td>US Citizen</td>\n",
       "      <td>Voluntarily Terminated</td>\n",
       "      <td>Production</td>\n",
       "      <td>37487.05</td>\n",
       "      <td>27</td>\n",
       "      <td>White</td>\n",
       "    </tr>\n",
       "    <tr>\n",
       "      <th>146</th>\n",
       "      <td>Sutwell, Barbara</td>\n",
       "      <td>1407069061</td>\n",
       "      <td>Production Technician I</td>\n",
       "      <td>MA</td>\n",
       "      <td>NaN</td>\n",
       "      <td>NaN</td>\n",
       "      <td>Single</td>\n",
       "      <td>Eligible NonCitizen</td>\n",
       "      <td>Active</td>\n",
       "      <td>Production</td>\n",
       "      <td>22626.11</td>\n",
       "      <td>45</td>\n",
       "      <td>Asian</td>\n",
       "    </tr>\n",
       "  </tbody>\n",
       "</table>\n",
       "</div>"
      ],
      "text/plain": [
       "          Employee_Name       EmpID                 Position State  Zip  \\\n",
       "83   Peterson, Ebonee    1402065355       Production Manager    MA  NaN   \n",
       "146    Sutwell, Barbara  1407069061  Production Technician I    MA  NaN   \n",
       "\n",
       "    Gender MaritalDesc          CitizenDesc        EmploymentStatus  \\\n",
       "83       F     Married           US Citizen  Voluntarily Terminated   \n",
       "146    NaN      Single  Eligible NonCitizen                  Active   \n",
       "\n",
       "            Department  Salaries  age   Race  \n",
       "83   Production         37487.05   27  White  \n",
       "146  Production         22626.11   45  Asian  "
      ]
     },
     "execution_count": 18,
     "metadata": {},
     "output_type": "execute_result"
    }
   ],
   "source": [
    "df[df['Zip'].isnull()]"
   ]
  },
  {
   "cell_type": "code",
   "execution_count": 19,
   "id": "3e52b50d",
   "metadata": {},
   "outputs": [],
   "source": [
    "df['Zip'].fillna(method = 'bfill',inplace = True)"
   ]
  },
  {
   "cell_type": "code",
   "execution_count": 20,
   "id": "debc8cc0",
   "metadata": {},
   "outputs": [
    {
     "data": {
      "text/plain": [
       "2451.0"
      ]
     },
     "execution_count": 20,
     "metadata": {},
     "output_type": "execute_result"
    }
   ],
   "source": [
    "df['Zip'][83]"
   ]
  },
  {
   "cell_type": "code",
   "execution_count": 21,
   "id": "2cb8a8aa",
   "metadata": {},
   "outputs": [
    {
     "data": {
      "text/plain": [
       "1887.0"
      ]
     },
     "execution_count": 21,
     "metadata": {},
     "output_type": "execute_result"
    }
   ],
   "source": [
    "df['Zip'][146]"
   ]
  },
  {
   "cell_type": "code",
   "execution_count": 22,
   "id": "a927c86a",
   "metadata": {},
   "outputs": [
    {
     "data": {
      "text/plain": [
       "Employee_Name        0\n",
       "EmpID                0\n",
       "Position             0\n",
       "State                0\n",
       "Zip                  0\n",
       "Gender               7\n",
       "MaritalDesc          9\n",
       "CitizenDesc          3\n",
       "EmploymentStatus     0\n",
       "Department           5\n",
       "Salaries            12\n",
       "age                  0\n",
       "Race                 9\n",
       "dtype: int64"
      ]
     },
     "execution_count": 22,
     "metadata": {},
     "output_type": "execute_result"
    }
   ],
   "source": [
    "df.isna().sum()"
   ]
  },
  {
   "cell_type": "markdown",
   "id": "35e75b8e",
   "metadata": {},
   "source": [
    "## Gender"
   ]
  },
  {
   "cell_type": "code",
   "execution_count": 23,
   "id": "3c3672c8",
   "metadata": {},
   "outputs": [
    {
     "data": {
      "text/html": [
       "<div>\n",
       "<style scoped>\n",
       "    .dataframe tbody tr th:only-of-type {\n",
       "        vertical-align: middle;\n",
       "    }\n",
       "\n",
       "    .dataframe tbody tr th {\n",
       "        vertical-align: top;\n",
       "    }\n",
       "\n",
       "    .dataframe thead th {\n",
       "        text-align: right;\n",
       "    }\n",
       "</style>\n",
       "<table border=\"1\" class=\"dataframe\">\n",
       "  <thead>\n",
       "    <tr style=\"text-align: right;\">\n",
       "      <th></th>\n",
       "      <th>Employee_Name</th>\n",
       "      <th>EmpID</th>\n",
       "      <th>Position</th>\n",
       "      <th>State</th>\n",
       "      <th>Zip</th>\n",
       "      <th>Gender</th>\n",
       "      <th>MaritalDesc</th>\n",
       "      <th>CitizenDesc</th>\n",
       "      <th>EmploymentStatus</th>\n",
       "      <th>Department</th>\n",
       "      <th>Salaries</th>\n",
       "      <th>age</th>\n",
       "      <th>Race</th>\n",
       "    </tr>\n",
       "  </thead>\n",
       "  <tbody>\n",
       "    <tr>\n",
       "      <th>26</th>\n",
       "      <td>Martins, Joseph</td>\n",
       "      <td>1209048771</td>\n",
       "      <td>Area Sales Manager</td>\n",
       "      <td>TX</td>\n",
       "      <td>78207.0</td>\n",
       "      <td>NaN</td>\n",
       "      <td>Single</td>\n",
       "      <td>Eligible NonCitizen</td>\n",
       "      <td>Active</td>\n",
       "      <td>Sales</td>\n",
       "      <td>30817.00</td>\n",
       "      <td>45</td>\n",
       "      <td>Black or African American</td>\n",
       "    </tr>\n",
       "    <tr>\n",
       "      <th>146</th>\n",
       "      <td>Sutwell, Barbara</td>\n",
       "      <td>1407069061</td>\n",
       "      <td>Production Technician I</td>\n",
       "      <td>MA</td>\n",
       "      <td>1887.0</td>\n",
       "      <td>NaN</td>\n",
       "      <td>Single</td>\n",
       "      <td>Eligible NonCitizen</td>\n",
       "      <td>Active</td>\n",
       "      <td>Production</td>\n",
       "      <td>22626.11</td>\n",
       "      <td>45</td>\n",
       "      <td>Asian</td>\n",
       "    </tr>\n",
       "    <tr>\n",
       "      <th>150</th>\n",
       "      <td>Cornett, Lisa</td>\n",
       "      <td>1403066069</td>\n",
       "      <td>Production Technician I</td>\n",
       "      <td>MA</td>\n",
       "      <td>2189.0</td>\n",
       "      <td>NaN</td>\n",
       "      <td>Married</td>\n",
       "      <td>US Citizen</td>\n",
       "      <td>Active</td>\n",
       "      <td>Production</td>\n",
       "      <td>33801.00</td>\n",
       "      <td>24</td>\n",
       "      <td>White</td>\n",
       "    </tr>\n",
       "    <tr>\n",
       "      <th>166</th>\n",
       "      <td>Dickinson, Geoff</td>\n",
       "      <td>706006285</td>\n",
       "      <td>Production Technician I</td>\n",
       "      <td>MA</td>\n",
       "      <td>2180.0</td>\n",
       "      <td>NaN</td>\n",
       "      <td>Single</td>\n",
       "      <td>US Citizen</td>\n",
       "      <td>Active</td>\n",
       "      <td>Production</td>\n",
       "      <td>5325.51</td>\n",
       "      <td>23</td>\n",
       "      <td>White</td>\n",
       "    </tr>\n",
       "    <tr>\n",
       "      <th>186</th>\n",
       "      <td>Mckenna, Sandy</td>\n",
       "      <td>909015167</td>\n",
       "      <td>Production Technician I</td>\n",
       "      <td>MA</td>\n",
       "      <td>2184.0</td>\n",
       "      <td>NaN</td>\n",
       "      <td>Married</td>\n",
       "      <td>US Citizen</td>\n",
       "      <td>Active</td>\n",
       "      <td>Production</td>\n",
       "      <td>55226.80</td>\n",
       "      <td>46</td>\n",
       "      <td>Black or African American</td>\n",
       "    </tr>\n",
       "    <tr>\n",
       "      <th>202</th>\n",
       "      <td>Linares, Marilyn</td>\n",
       "      <td>1206042315</td>\n",
       "      <td>Production Technician I</td>\n",
       "      <td>MA</td>\n",
       "      <td>1886.0</td>\n",
       "      <td>NaN</td>\n",
       "      <td>Married</td>\n",
       "      <td>US Citizen</td>\n",
       "      <td>Voluntarily Terminated</td>\n",
       "      <td>Production</td>\n",
       "      <td>35448.62</td>\n",
       "      <td>49</td>\n",
       "      <td>White</td>\n",
       "    </tr>\n",
       "    <tr>\n",
       "      <th>216</th>\n",
       "      <td>Kinsella, Kathleen</td>\n",
       "      <td>710007401</td>\n",
       "      <td>Production Technician I</td>\n",
       "      <td>MA</td>\n",
       "      <td>2170.0</td>\n",
       "      <td>NaN</td>\n",
       "      <td>NaN</td>\n",
       "      <td>US Citizen</td>\n",
       "      <td>Voluntarily Terminated</td>\n",
       "      <td>Production</td>\n",
       "      <td>108304.00</td>\n",
       "      <td>27</td>\n",
       "      <td>White</td>\n",
       "    </tr>\n",
       "  </tbody>\n",
       "</table>\n",
       "</div>"
      ],
      "text/plain": [
       "            Employee_Name       EmpID                 Position State      Zip  \\\n",
       "26        Martins, Joseph  1209048771       Area Sales Manager    TX  78207.0   \n",
       "146      Sutwell, Barbara  1407069061  Production Technician I    MA   1887.0   \n",
       "150        Cornett, Lisa   1403066069  Production Technician I    MA   2189.0   \n",
       "166     Dickinson, Geoff    706006285  Production Technician I    MA   2180.0   \n",
       "186        Mckenna, Sandy   909015167  Production Technician I    MA   2184.0   \n",
       "202     Linares, Marilyn   1206042315  Production Technician I    MA   1886.0   \n",
       "216  Kinsella, Kathleen     710007401  Production Technician I    MA   2170.0   \n",
       "\n",
       "    Gender MaritalDesc          CitizenDesc        EmploymentStatus  \\\n",
       "26     NaN      Single  Eligible NonCitizen                  Active   \n",
       "146    NaN      Single  Eligible NonCitizen                  Active   \n",
       "150    NaN     Married           US Citizen                  Active   \n",
       "166    NaN      Single           US Citizen                  Active   \n",
       "186    NaN     Married           US Citizen                  Active   \n",
       "202    NaN     Married           US Citizen  Voluntarily Terminated   \n",
       "216    NaN         NaN           US Citizen  Voluntarily Terminated   \n",
       "\n",
       "            Department   Salaries  age                       Race  \n",
       "26               Sales   30817.00   45  Black or African American  \n",
       "146  Production          22626.11   45                      Asian  \n",
       "150  Production          33801.00   24                      White  \n",
       "166  Production           5325.51   23                      White  \n",
       "186  Production          55226.80   46  Black or African American  \n",
       "202  Production          35448.62   49                      White  \n",
       "216  Production         108304.00   27                      White  "
      ]
     },
     "execution_count": 23,
     "metadata": {},
     "output_type": "execute_result"
    }
   ],
   "source": [
    "df[df['Gender'].isnull()]"
   ]
  },
  {
   "cell_type": "code",
   "execution_count": 24,
   "id": "e387b305",
   "metadata": {},
   "outputs": [
    {
     "data": {
      "text/plain": [
       "0    F\n",
       "Name: Gender, dtype: object"
      ]
     },
     "execution_count": 24,
     "metadata": {},
     "output_type": "execute_result"
    }
   ],
   "source": [
    "df['Gender'].mode()  ## statistical method"
   ]
  },
  {
   "cell_type": "code",
   "execution_count": 25,
   "id": "a605b487",
   "metadata": {},
   "outputs": [],
   "source": [
    "df['Gender'].fillna(df['Gender'].mode()[0],inplace = True)"
   ]
  },
  {
   "cell_type": "code",
   "execution_count": 26,
   "id": "c4026b4f",
   "metadata": {},
   "outputs": [
    {
     "data": {
      "text/plain": [
       "'F'"
      ]
     },
     "execution_count": 26,
     "metadata": {},
     "output_type": "execute_result"
    }
   ],
   "source": [
    "df['Gender'][26]"
   ]
  },
  {
   "cell_type": "code",
   "execution_count": 27,
   "id": "ea57eb65",
   "metadata": {},
   "outputs": [
    {
     "data": {
      "text/plain": [
       "'F'"
      ]
     },
     "execution_count": 27,
     "metadata": {},
     "output_type": "execute_result"
    }
   ],
   "source": [
    "df['Gender'][166]"
   ]
  },
  {
   "cell_type": "code",
   "execution_count": 28,
   "id": "055cbc69",
   "metadata": {},
   "outputs": [
    {
     "data": {
      "text/plain": [
       "Employee_Name        0\n",
       "EmpID                0\n",
       "Position             0\n",
       "State                0\n",
       "Zip                  0\n",
       "Gender               0\n",
       "MaritalDesc          9\n",
       "CitizenDesc          3\n",
       "EmploymentStatus     0\n",
       "Department           5\n",
       "Salaries            12\n",
       "age                  0\n",
       "Race                 9\n",
       "dtype: int64"
      ]
     },
     "execution_count": 28,
     "metadata": {},
     "output_type": "execute_result"
    }
   ],
   "source": [
    "df.isna().sum()"
   ]
  },
  {
   "cell_type": "markdown",
   "id": "93ecd501",
   "metadata": {},
   "source": [
    "## MaritalDesc"
   ]
  },
  {
   "cell_type": "code",
   "execution_count": 29,
   "id": "d9d4a118",
   "metadata": {},
   "outputs": [
    {
     "data": {
      "text/html": [
       "<div>\n",
       "<style scoped>\n",
       "    .dataframe tbody tr th:only-of-type {\n",
       "        vertical-align: middle;\n",
       "    }\n",
       "\n",
       "    .dataframe tbody tr th {\n",
       "        vertical-align: top;\n",
       "    }\n",
       "\n",
       "    .dataframe thead th {\n",
       "        text-align: right;\n",
       "    }\n",
       "</style>\n",
       "<table border=\"1\" class=\"dataframe\">\n",
       "  <thead>\n",
       "    <tr style=\"text-align: right;\">\n",
       "      <th></th>\n",
       "      <th>Employee_Name</th>\n",
       "      <th>EmpID</th>\n",
       "      <th>Position</th>\n",
       "      <th>State</th>\n",
       "      <th>Zip</th>\n",
       "      <th>Gender</th>\n",
       "      <th>MaritalDesc</th>\n",
       "      <th>CitizenDesc</th>\n",
       "      <th>EmploymentStatus</th>\n",
       "      <th>Department</th>\n",
       "      <th>Salaries</th>\n",
       "      <th>age</th>\n",
       "      <th>Race</th>\n",
       "    </tr>\n",
       "  </thead>\n",
       "  <tbody>\n",
       "    <tr>\n",
       "      <th>32</th>\n",
       "      <td>Terry, Sharlene</td>\n",
       "      <td>1401064637</td>\n",
       "      <td>Area Sales Manager</td>\n",
       "      <td>OR</td>\n",
       "      <td>97756.0</td>\n",
       "      <td>F</td>\n",
       "      <td>NaN</td>\n",
       "      <td>US Citizen</td>\n",
       "      <td>Active</td>\n",
       "      <td>Sales</td>\n",
       "      <td>36485.25</td>\n",
       "      <td>49</td>\n",
       "      <td>Black or African American</td>\n",
       "    </tr>\n",
       "    <tr>\n",
       "      <th>48</th>\n",
       "      <td>Roby, Lori</td>\n",
       "      <td>1407068885</td>\n",
       "      <td>Data Analyst</td>\n",
       "      <td>MA</td>\n",
       "      <td>1886.0</td>\n",
       "      <td>F</td>\n",
       "      <td>NaN</td>\n",
       "      <td>US Citizen</td>\n",
       "      <td>Active</td>\n",
       "      <td>IT/IS</td>\n",
       "      <td>22721.00</td>\n",
       "      <td>23</td>\n",
       "      <td>White</td>\n",
       "    </tr>\n",
       "    <tr>\n",
       "      <th>70</th>\n",
       "      <td>Shepard, Anita</td>\n",
       "      <td>906014183</td>\n",
       "      <td>Network Engineer</td>\n",
       "      <td>MA</td>\n",
       "      <td>1773.0</td>\n",
       "      <td>F</td>\n",
       "      <td>NaN</td>\n",
       "      <td>US Citizen</td>\n",
       "      <td>Active</td>\n",
       "      <td>IT/IS</td>\n",
       "      <td>27588.40</td>\n",
       "      <td>30</td>\n",
       "      <td>White</td>\n",
       "    </tr>\n",
       "    <tr>\n",
       "      <th>91</th>\n",
       "      <td>Desimone, Carl</td>\n",
       "      <td>1501072124</td>\n",
       "      <td>Data Scientist</td>\n",
       "      <td>MA</td>\n",
       "      <td>2061.0</td>\n",
       "      <td>M</td>\n",
       "      <td>NaN</td>\n",
       "      <td>US Citizen</td>\n",
       "      <td>Active</td>\n",
       "      <td>NaN</td>\n",
       "      <td>15736.71</td>\n",
       "      <td>26</td>\n",
       "      <td>White</td>\n",
       "    </tr>\n",
       "    <tr>\n",
       "      <th>112</th>\n",
       "      <td>Ngodup, Shari</td>\n",
       "      <td>1403066020</td>\n",
       "      <td>Production Technician I</td>\n",
       "      <td>MA</td>\n",
       "      <td>1810.0</td>\n",
       "      <td>F</td>\n",
       "      <td>NaN</td>\n",
       "      <td>US Citizen</td>\n",
       "      <td>Active</td>\n",
       "      <td>Production</td>\n",
       "      <td>66142.11</td>\n",
       "      <td>27</td>\n",
       "      <td>Asian</td>\n",
       "    </tr>\n",
       "    <tr>\n",
       "      <th>134</th>\n",
       "      <td>Beatrice, Courtney</td>\n",
       "      <td>1403066194</td>\n",
       "      <td>Production Technician I</td>\n",
       "      <td>MA</td>\n",
       "      <td>1915.0</td>\n",
       "      <td>F</td>\n",
       "      <td>NaN</td>\n",
       "      <td>Eligible NonCitizen</td>\n",
       "      <td>Active</td>\n",
       "      <td>Production</td>\n",
       "      <td>NaN</td>\n",
       "      <td>44</td>\n",
       "      <td>White</td>\n",
       "    </tr>\n",
       "    <tr>\n",
       "      <th>161</th>\n",
       "      <td>Stoica, Rick</td>\n",
       "      <td>1106026896</td>\n",
       "      <td>Production Technician I</td>\n",
       "      <td>MA</td>\n",
       "      <td>2301.0</td>\n",
       "      <td>M</td>\n",
       "      <td>NaN</td>\n",
       "      <td>US Citizen</td>\n",
       "      <td>Active</td>\n",
       "      <td>Production</td>\n",
       "      <td>47548.01</td>\n",
       "      <td>34</td>\n",
       "      <td>Asian</td>\n",
       "    </tr>\n",
       "    <tr>\n",
       "      <th>189</th>\n",
       "      <td>Purinton, Janine</td>\n",
       "      <td>1011022926</td>\n",
       "      <td>Production Technician I</td>\n",
       "      <td>MA</td>\n",
       "      <td>2474.0</td>\n",
       "      <td>F</td>\n",
       "      <td>NaN</td>\n",
       "      <td>US Citizen</td>\n",
       "      <td>Voluntarily Terminated</td>\n",
       "      <td>Production</td>\n",
       "      <td>2250.00</td>\n",
       "      <td>27</td>\n",
       "      <td>White</td>\n",
       "    </tr>\n",
       "    <tr>\n",
       "      <th>216</th>\n",
       "      <td>Kinsella, Kathleen</td>\n",
       "      <td>710007401</td>\n",
       "      <td>Production Technician I</td>\n",
       "      <td>MA</td>\n",
       "      <td>2170.0</td>\n",
       "      <td>F</td>\n",
       "      <td>NaN</td>\n",
       "      <td>US Citizen</td>\n",
       "      <td>Voluntarily Terminated</td>\n",
       "      <td>Production</td>\n",
       "      <td>108304.00</td>\n",
       "      <td>27</td>\n",
       "      <td>White</td>\n",
       "    </tr>\n",
       "  </tbody>\n",
       "</table>\n",
       "</div>"
      ],
      "text/plain": [
       "            Employee_Name       EmpID                 Position State      Zip  \\\n",
       "32       Terry, Sharlene   1401064637       Area Sales Manager    OR  97756.0   \n",
       "48            Roby, Lori   1407068885             Data Analyst    MA   1886.0   \n",
       "70        Shepard, Anita    906014183         Network Engineer    MA   1773.0   \n",
       "91        Desimone, Carl   1501072124           Data Scientist    MA   2061.0   \n",
       "112        Ngodup, Shari   1403066020  Production Technician I    MA   1810.0   \n",
       "134   Beatrice, Courtney   1403066194  Production Technician I    MA   1915.0   \n",
       "161          Stoica, Rick  1106026896  Production Technician I    MA   2301.0   \n",
       "189      Purinton, Janine  1011022926  Production Technician I    MA   2474.0   \n",
       "216  Kinsella, Kathleen     710007401  Production Technician I    MA   2170.0   \n",
       "\n",
       "    Gender MaritalDesc          CitizenDesc        EmploymentStatus  \\\n",
       "32       F         NaN           US Citizen                  Active   \n",
       "48       F         NaN           US Citizen                  Active   \n",
       "70       F         NaN           US Citizen                  Active   \n",
       "91      M          NaN           US Citizen                  Active   \n",
       "112      F         NaN           US Citizen                  Active   \n",
       "134      F         NaN  Eligible NonCitizen                  Active   \n",
       "161     M          NaN           US Citizen                  Active   \n",
       "189      F         NaN           US Citizen  Voluntarily Terminated   \n",
       "216      F         NaN           US Citizen  Voluntarily Terminated   \n",
       "\n",
       "            Department   Salaries  age                       Race  \n",
       "32               Sales   36485.25   49  Black or African American  \n",
       "48               IT/IS   22721.00   23                      White  \n",
       "70               IT/IS   27588.40   30                      White  \n",
       "91                 NaN   15736.71   26                      White  \n",
       "112  Production          66142.11   27                      Asian  \n",
       "134  Production               NaN   44                      White  \n",
       "161  Production          47548.01   34                      Asian  \n",
       "189  Production           2250.00   27                      White  \n",
       "216  Production         108304.00   27                      White  "
      ]
     },
     "execution_count": 29,
     "metadata": {},
     "output_type": "execute_result"
    }
   ],
   "source": [
    "df[df['MaritalDesc'].isnull()]"
   ]
  },
  {
   "cell_type": "code",
   "execution_count": 31,
   "id": "eb114531",
   "metadata": {},
   "outputs": [],
   "source": [
    "df['MaritalDesc'].fillna(method = 'ffill',inplace = True)"
   ]
  },
  {
   "cell_type": "code",
   "execution_count": 32,
   "id": "e9179c9d",
   "metadata": {},
   "outputs": [
    {
     "data": {
      "text/plain": [
       "'Married'"
      ]
     },
     "execution_count": 32,
     "metadata": {},
     "output_type": "execute_result"
    }
   ],
   "source": [
    "df['MaritalDesc'][48]"
   ]
  },
  {
   "cell_type": "code",
   "execution_count": 33,
   "id": "96314b42",
   "metadata": {},
   "outputs": [
    {
     "data": {
      "text/plain": [
       "'Separated'"
      ]
     },
     "execution_count": 33,
     "metadata": {},
     "output_type": "execute_result"
    }
   ],
   "source": [
    "df['MaritalDesc'][32]"
   ]
  },
  {
   "cell_type": "code",
   "execution_count": 34,
   "id": "baf601aa",
   "metadata": {},
   "outputs": [
    {
     "data": {
      "text/plain": [
       "'Married'"
      ]
     },
     "execution_count": 34,
     "metadata": {},
     "output_type": "execute_result"
    }
   ],
   "source": [
    "df['MaritalDesc'][70]"
   ]
  },
  {
   "cell_type": "code",
   "execution_count": 35,
   "id": "3941eeea",
   "metadata": {},
   "outputs": [
    {
     "data": {
      "text/plain": [
       "'Single'"
      ]
     },
     "execution_count": 35,
     "metadata": {},
     "output_type": "execute_result"
    }
   ],
   "source": [
    "df['MaritalDesc'][91]"
   ]
  },
  {
   "cell_type": "code",
   "execution_count": 36,
   "id": "23ce0a5a",
   "metadata": {},
   "outputs": [
    {
     "data": {
      "text/plain": [
       "Employee_Name        0\n",
       "EmpID                0\n",
       "Position             0\n",
       "State                0\n",
       "Zip                  0\n",
       "Gender               0\n",
       "MaritalDesc          0\n",
       "CitizenDesc          3\n",
       "EmploymentStatus     0\n",
       "Department           5\n",
       "Salaries            12\n",
       "age                  0\n",
       "Race                 9\n",
       "dtype: int64"
      ]
     },
     "execution_count": 36,
     "metadata": {},
     "output_type": "execute_result"
    }
   ],
   "source": [
    "df.isna().sum()"
   ]
  },
  {
   "cell_type": "markdown",
   "id": "d0c3d46b",
   "metadata": {},
   "source": [
    "## CitizenDesc"
   ]
  },
  {
   "cell_type": "code",
   "execution_count": 37,
   "id": "79a97542",
   "metadata": {},
   "outputs": [
    {
     "data": {
      "text/html": [
       "<div>\n",
       "<style scoped>\n",
       "    .dataframe tbody tr th:only-of-type {\n",
       "        vertical-align: middle;\n",
       "    }\n",
       "\n",
       "    .dataframe tbody tr th {\n",
       "        vertical-align: top;\n",
       "    }\n",
       "\n",
       "    .dataframe thead th {\n",
       "        text-align: right;\n",
       "    }\n",
       "</style>\n",
       "<table border=\"1\" class=\"dataframe\">\n",
       "  <thead>\n",
       "    <tr style=\"text-align: right;\">\n",
       "      <th></th>\n",
       "      <th>Employee_Name</th>\n",
       "      <th>EmpID</th>\n",
       "      <th>Position</th>\n",
       "      <th>State</th>\n",
       "      <th>Zip</th>\n",
       "      <th>Gender</th>\n",
       "      <th>MaritalDesc</th>\n",
       "      <th>CitizenDesc</th>\n",
       "      <th>EmploymentStatus</th>\n",
       "      <th>Department</th>\n",
       "      <th>Salaries</th>\n",
       "      <th>age</th>\n",
       "      <th>Race</th>\n",
       "    </tr>\n",
       "  </thead>\n",
       "  <tbody>\n",
       "    <tr>\n",
       "      <th>19</th>\n",
       "      <td>Villanueva, Noah</td>\n",
       "      <td>1111030503</td>\n",
       "      <td>Area Sales Manager</td>\n",
       "      <td>ME</td>\n",
       "      <td>4063.0</td>\n",
       "      <td>M</td>\n",
       "      <td>Single</td>\n",
       "      <td>NaN</td>\n",
       "      <td>Active</td>\n",
       "      <td>Sales</td>\n",
       "      <td>25521.82</td>\n",
       "      <td>25</td>\n",
       "      <td>Asian</td>\n",
       "    </tr>\n",
       "    <tr>\n",
       "      <th>29</th>\n",
       "      <td>Onque, Jasmine</td>\n",
       "      <td>1501072180</td>\n",
       "      <td>Area Sales Manager</td>\n",
       "      <td>FL</td>\n",
       "      <td>33174.0</td>\n",
       "      <td>F</td>\n",
       "      <td>Single</td>\n",
       "      <td>NaN</td>\n",
       "      <td>Active</td>\n",
       "      <td>Sales</td>\n",
       "      <td>53196.72</td>\n",
       "      <td>38</td>\n",
       "      <td>White</td>\n",
       "    </tr>\n",
       "    <tr>\n",
       "      <th>88</th>\n",
       "      <td>Anderson, Linda</td>\n",
       "      <td>1304055947</td>\n",
       "      <td>Production Technician I</td>\n",
       "      <td>MA</td>\n",
       "      <td>1844.0</td>\n",
       "      <td>F</td>\n",
       "      <td>Single</td>\n",
       "      <td>NaN</td>\n",
       "      <td>Active</td>\n",
       "      <td>Production</td>\n",
       "      <td>49500.00</td>\n",
       "      <td>25</td>\n",
       "      <td>White</td>\n",
       "    </tr>\n",
       "  </tbody>\n",
       "</table>\n",
       "</div>"
      ],
      "text/plain": [
       "        Employee_Name       EmpID                 Position State      Zip  \\\n",
       "19   Villanueva, Noah  1111030503       Area Sales Manager    ME   4063.0   \n",
       "29     Onque, Jasmine  1501072180       Area Sales Manager    FL  33174.0   \n",
       "88  Anderson, Linda    1304055947  Production Technician I    MA   1844.0   \n",
       "\n",
       "   Gender MaritalDesc CitizenDesc EmploymentStatus         Department  \\\n",
       "19     M       Single         NaN           Active              Sales   \n",
       "29      F      Single         NaN           Active              Sales   \n",
       "88      F      Single         NaN           Active  Production          \n",
       "\n",
       "    Salaries  age   Race  \n",
       "19  25521.82   25  Asian  \n",
       "29  53196.72   38  White  \n",
       "88  49500.00   25  White  "
      ]
     },
     "execution_count": 37,
     "metadata": {},
     "output_type": "execute_result"
    }
   ],
   "source": [
    "df[df['CitizenDesc'].isnull()]"
   ]
  },
  {
   "cell_type": "code",
   "execution_count": 38,
   "id": "4466e32e",
   "metadata": {},
   "outputs": [],
   "source": [
    "df['CitizenDesc'].fillna('India',inplace = True)"
   ]
  },
  {
   "cell_type": "code",
   "execution_count": 39,
   "id": "79613521",
   "metadata": {},
   "outputs": [
    {
     "data": {
      "text/plain": [
       "'India'"
      ]
     },
     "execution_count": 39,
     "metadata": {},
     "output_type": "execute_result"
    }
   ],
   "source": [
    "df['CitizenDesc'][19]"
   ]
  },
  {
   "cell_type": "code",
   "execution_count": 40,
   "id": "6a9cdac5",
   "metadata": {},
   "outputs": [
    {
     "data": {
      "text/plain": [
       "'India'"
      ]
     },
     "execution_count": 40,
     "metadata": {},
     "output_type": "execute_result"
    }
   ],
   "source": [
    "df['CitizenDesc'][29]"
   ]
  },
  {
   "cell_type": "code",
   "execution_count": 41,
   "id": "8ca9d8a9",
   "metadata": {},
   "outputs": [
    {
     "data": {
      "text/plain": [
       "'India'"
      ]
     },
     "execution_count": 41,
     "metadata": {},
     "output_type": "execute_result"
    }
   ],
   "source": [
    "df['CitizenDesc'][88]"
   ]
  },
  {
   "cell_type": "code",
   "execution_count": 42,
   "id": "f207d063",
   "metadata": {},
   "outputs": [
    {
     "data": {
      "text/plain": [
       "Employee_Name        0\n",
       "EmpID                0\n",
       "Position             0\n",
       "State                0\n",
       "Zip                  0\n",
       "Gender               0\n",
       "MaritalDesc          0\n",
       "CitizenDesc          0\n",
       "EmploymentStatus     0\n",
       "Department           5\n",
       "Salaries            12\n",
       "age                  0\n",
       "Race                 9\n",
       "dtype: int64"
      ]
     },
     "execution_count": 42,
     "metadata": {},
     "output_type": "execute_result"
    }
   ],
   "source": [
    "df.isna().sum()"
   ]
  },
  {
   "cell_type": "markdown",
   "id": "41bee7a2",
   "metadata": {},
   "source": [
    "## B) Create pivot table for position and average salary."
   ]
  },
  {
   "cell_type": "code",
   "execution_count": 43,
   "id": "72659c48",
   "metadata": {},
   "outputs": [
    {
     "data": {
      "text/html": [
       "<div>\n",
       "<style scoped>\n",
       "    .dataframe tbody tr th:only-of-type {\n",
       "        vertical-align: middle;\n",
       "    }\n",
       "\n",
       "    .dataframe tbody tr th {\n",
       "        vertical-align: top;\n",
       "    }\n",
       "\n",
       "    .dataframe thead th {\n",
       "        text-align: right;\n",
       "    }\n",
       "</style>\n",
       "<table border=\"1\" class=\"dataframe\">\n",
       "  <thead>\n",
       "    <tr style=\"text-align: right;\">\n",
       "      <th>Position</th>\n",
       "      <th>Accountant I</th>\n",
       "      <th>Administrative Assistant</th>\n",
       "      <th>Area Sales Manager</th>\n",
       "      <th>BI Developer</th>\n",
       "      <th>BI Director</th>\n",
       "      <th>CIO</th>\n",
       "      <th>Data Analyst</th>\n",
       "      <th>Data Analyst</th>\n",
       "      <th>Data Architect</th>\n",
       "      <th>Data Scientist</th>\n",
       "      <th>...</th>\n",
       "      <th>Production Technician I</th>\n",
       "      <th>Production Technician II</th>\n",
       "      <th>Sales Manager</th>\n",
       "      <th>Senior BI Developer</th>\n",
       "      <th>Shared Services Manager</th>\n",
       "      <th>Software Engineer</th>\n",
       "      <th>Software Engineering Manager</th>\n",
       "      <th>Sr. Accountant</th>\n",
       "      <th>Sr. DBA</th>\n",
       "      <th>Sr. Network Engineer</th>\n",
       "    </tr>\n",
       "  </thead>\n",
       "  <tbody>\n",
       "    <tr>\n",
       "      <th>Salaries</th>\n",
       "      <td>674.28</td>\n",
       "      <td>46747.685</td>\n",
       "      <td>42048.275769</td>\n",
       "      <td>37449.776667</td>\n",
       "      <td>4160.0</td>\n",
       "      <td>26418.01</td>\n",
       "      <td>37772.945714</td>\n",
       "      <td>42304.75</td>\n",
       "      <td>90016.01</td>\n",
       "      <td>34387.906667</td>\n",
       "      <td>...</td>\n",
       "      <td>35136.340787</td>\n",
       "      <td>33803.863333</td>\n",
       "      <td>34093.246667</td>\n",
       "      <td>71293.676667</td>\n",
       "      <td>45262.975</td>\n",
       "      <td>39892.308889</td>\n",
       "      <td>40208.0</td>\n",
       "      <td>27349.755</td>\n",
       "      <td>31954.975</td>\n",
       "      <td>28438.6</td>\n",
       "    </tr>\n",
       "  </tbody>\n",
       "</table>\n",
       "<p>1 rows × 32 columns</p>\n",
       "</div>"
      ],
      "text/plain": [
       "Position  Accountant I  Administrative Assistant  Area Sales Manager  \\\n",
       "Salaries        674.28                 46747.685        42048.275769   \n",
       "\n",
       "Position  BI Developer  BI Director       CIO  Data Analyst  Data Analyst   \\\n",
       "Salaries  37449.776667       4160.0  26418.01  37772.945714       42304.75   \n",
       "\n",
       "Position  Data Architect  Data Scientist  ...  Production Technician I  \\\n",
       "Salaries        90016.01    34387.906667  ...             35136.340787   \n",
       "\n",
       "Position  Production Technician II  Sales Manager  Senior BI Developer  \\\n",
       "Salaries              33803.863333   34093.246667         71293.676667   \n",
       "\n",
       "Position  Shared Services Manager  Software Engineer  \\\n",
       "Salaries                45262.975       39892.308889   \n",
       "\n",
       "Position  Software Engineering Manager  Sr. Accountant    Sr. DBA  \\\n",
       "Salaries                       40208.0       27349.755  31954.975   \n",
       "\n",
       "Position  Sr. Network Engineer  \n",
       "Salaries               28438.6  \n",
       "\n",
       "[1 rows x 32 columns]"
      ]
     },
     "execution_count": 43,
     "metadata": {},
     "output_type": "execute_result"
    }
   ],
   "source": [
    "df.pivot_table(values =  \"Salaries\",columns = \"Position\",aggfunc = \"mean\")"
   ]
  },
  {
   "cell_type": "markdown",
   "id": "c34d061b",
   "metadata": {},
   "source": [
    "## C) Group the data using group by as per gender and average age"
   ]
  },
  {
   "cell_type": "code",
   "execution_count": 44,
   "id": "4ebc3a4e",
   "metadata": {},
   "outputs": [
    {
     "data": {
      "text/plain": [
       "Gender\n",
       "F     38.670391\n",
       "M     38.732824\n",
       "Name: age, dtype: float64"
      ]
     },
     "execution_count": 44,
     "metadata": {},
     "output_type": "execute_result"
    }
   ],
   "source": [
    "df.groupby(by = 'Gender')[\"age\"].mean()"
   ]
  },
  {
   "cell_type": "code",
   "execution_count": null,
   "id": "716e890b",
   "metadata": {},
   "outputs": [],
   "source": []
  }
 ],
 "metadata": {
  "kernelspec": {
   "display_name": "Python 3 (ipykernel)",
   "language": "python",
   "name": "python3"
  },
  "language_info": {
   "codemirror_mode": {
    "name": "ipython",
    "version": 3
   },
   "file_extension": ".py",
   "mimetype": "text/x-python",
   "name": "python",
   "nbconvert_exporter": "python",
   "pygments_lexer": "ipython3",
   "version": "3.11.4"
  }
 },
 "nbformat": 4,
 "nbformat_minor": 5
}
